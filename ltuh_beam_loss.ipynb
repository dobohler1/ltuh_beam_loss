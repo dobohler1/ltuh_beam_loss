{
 "cells": [
  {
   "cell_type": "markdown",
   "metadata": {},
   "source": [
    "# LTHU beam loss \n",
    "\n",
    "This script shows how a beam loss can be specified at a particular s location.\n",
    "\n",
    "It is somewhat hackey, using the unstable.orbit datum which wants a relative index for the loss point. "
   ]
  },
  {
   "cell_type": "code",
   "execution_count": 1,
   "metadata": {},
   "outputs": [],
   "source": [
    "# Useful for debugging\n",
    "#%load_ext autoreload\n",
    "#%autoreload 2\n",
    "\n",
    "import matplotlib.pyplot as plt\n",
    "import numpy as np\n",
    "import pandas as pd\n",
    "%config InlineBackend.figure_format = 'retina'\n",
    "\n",
    "from pytao import TaoModel"
   ]
  },
  {
   "cell_type": "code",
   "execution_count": 4,
   "metadata": {},
   "outputs": [
    {
     "name": "stdout",
     "output_type": "stream",
     "text": [
      "Initialized Tao with /tmp/tmpcmhfwhic/tao/tao.init\n"
     ]
    }
   ],
   "source": [
    "# Load model\n",
    "M = TaoModel('tao.init', ploton=True)"
   ]
  },
  {
   "cell_type": "code",
   "execution_count": 5,
   "metadata": {},
   "outputs": [
    {
     "data": {
      "text/plain": [
       "('DTDUND2', 2385)"
      ]
     },
     "execution_count": 5,
     "metadata": {},
     "output_type": "execute_result"
    }
   ],
   "source": [
    "# Get info to lookup indices\n",
    "\n",
    "# Helper function\n",
    "def lat_names(match='*'):\n",
    "    return np.array(M.cmd(f'python lat_list -track_only >>{match}|model ele.name'))\n",
    "\n",
    "ELE_S = np.array(M.cmd('python lat_list -track_only >>*|model ele.s')).astype('float')\n",
    "\n",
    "\n",
    "\n",
    "ELE_NAMES = lat_names().tolist()\n",
    "END_ELE = ELE_NAMES[-1]\n",
    "IX_REF = ELE_NAMES.index(END_ELE)\n",
    "S_REF = ELE_S[IX_REF]\n",
    "\n",
    "# Get floor Z\n",
    "FLOOR_Z = np.array(M.evaluate(f'lat::floor.z[beginning:{END_ELE}]'))\n",
    "\n",
    "MIN_Z = FLOOR_Z[0]\n",
    "MAX_Z = FLOOR_Z[-1]\n",
    "\n",
    "END_ELE, ELE_NAMES.index(END_ELE)"
   ]
  },
  {
   "cell_type": "code",
   "execution_count": 6,
   "metadata": {},
   "outputs": [
    {
     "data": {
      "text/plain": [
       "(3224.76242303644, 3561.33382646055)"
      ]
     },
     "execution_count": 6,
     "metadata": {},
     "output_type": "execute_result"
    }
   ],
   "source": [
    "# Z range\n",
    "FLOOR_Z[0], FLOOR_Z[-1]"
   ]
  },
  {
   "cell_type": "code",
   "execution_count": 7,
   "metadata": {},
   "outputs": [
    {
     "data": {
      "text/plain": [
       "1285.3385798036663"
      ]
     },
     "execution_count": 7,
     "metadata": {},
     "output_type": "execute_result"
    }
   ],
   "source": [
    "# Simple helper function\n",
    "def s_from_z(z):\n",
    "    \"\"\"\n",
    "    Floor Z from s\n",
    "    \"\"\"\n",
    "    \n",
    "    if z < MIN_Z:\n",
    "        raise ValueError(f'Error: Z = {z} is less than the minumum {MIN_Z}')\n",
    "        \n",
    "    if z > MAX_Z:\n",
    "        raise ValueError(f'Error: Z = {z} is greater than the maximum {MAX_Z}')        \n",
    "    \n",
    "    return np.interp(z, FLOOR_Z, ELE_S)\n",
    "\n",
    "\n",
    "s_from_z(3300)"
   ]
  },
  {
   "cell_type": "code",
   "execution_count": 8,
   "metadata": {},
   "outputs": [
    {
     "data": {
      "text/plain": [
       "['',\n",
       " '  Name                                 Using for Optimization',\n",
       " '  aperture.p[0:979]                              Using:',\n",
       " '  aperture.n[0:979]                              Using:',\n",
       " '  orbit.x[1:29]                                  Using:',\n",
       " '  orbit.y[1:0]                                   Using:',\n",
       " '  orbit.profx[1:0]                               Using:',\n",
       " '  orbit.profy[1:0]                               Using:',\n",
       " '  orbit.e[1:0]                                   Using:',\n",
       " '  loss[1:1]                                      Using: 1']"
      ]
     },
     "execution_count": 8,
     "metadata": {},
     "output_type": "execute_result"
    }
   ],
   "source": [
    "# Use all correctors. There should only be one datum: loss.rel_point\n",
    "M.cmd('use var correctors.x')\n",
    "M.cmd('set var correctors.x|meas =0') \n",
    "M.cmd('set var correctors.x|weight =1e8')\n",
    "M.cmd('use dat loss.rel_point')\n",
    "M.cmd('set dat loss.rel_point|weight = 1')\n",
    "M.cmd('sho dat')"
   ]
  },
  {
   "cell_type": "code",
   "execution_count": 9,
   "metadata": {},
   "outputs": [
    {
     "name": "stdout",
     "output_type": "stream",
     "text": [
      "Setting loss at s = 1385.345074975222 m, Z = 3400 m\n"
     ]
    },
    {
     "data": {
      "text/plain": [
       "(1385.35007502969, 'DMM1M90CM#7')"
      ]
     },
     "execution_count": 9,
     "metadata": {},
     "output_type": "execute_result"
    }
   ],
   "source": [
    "def set_loss_s(s):\n",
    "    \"\"\"\n",
    "    Sets the appropriate loss \n",
    "    \"\"\"\n",
    "    M.cmd(f'set dat loss.rel_point|ele_name ={END_ELE}')\n",
    "        \n",
    "    ix_target = np.abs(ELE_S-s).argmin()\n",
    "    \n",
    "    M.cmd(f'set dat loss.rel_point|meas ={IX_REF-ix_target}')\n",
    "    return ELE_S[ix_target], ELE_NAMES[ix_target]\n",
    "\n",
    "# Similar to above, but for z\n",
    "def set_loss_z(z):\n",
    "    \n",
    "    s = s_from_z(z)\n",
    "    print(f'Setting loss at s = {s} m, Z = {z} m')\n",
    "    return set_loss_s(s)\n",
    "\n",
    "set_loss_s(1280)\n",
    "set_loss_z(3400)"
   ]
  },
  {
   "cell_type": "code",
   "execution_count": 10,
   "metadata": {},
   "outputs": [],
   "source": [
    "# Reset lattice\n",
    "def reset():\n",
    "    M.cmd('set lattice model=design')\n",
    "    # Turn off collimators\n",
    "    M.cmd('set ele rcoll::* x1_limit = 20e-3')\n",
    "    M.cmd('set ele rcoll::* x2_limit = 20e-3')    \n",
    "reset()"
   ]
  },
  {
   "cell_type": "code",
   "execution_count": 11,
   "metadata": {},
   "outputs": [
    {
     "data": {
      "text/plain": [
       "[]"
      ]
     },
     "execution_count": 11,
     "metadata": {},
     "output_type": "execute_result"
    }
   ],
   "source": [
    "# Use the DE optimizer - it has enough noise to seed a loss\n",
    "# Play with these numbers to make it faster/more accurate\n",
    "M.cmd('scycles 5')\n",
    "M.cmd('sde 1000')\n",
    "M.cmd('ode')\n",
    "#M.cmd('olmdif')"
   ]
  },
  {
   "cell_type": "code",
   "execution_count": 12,
   "metadata": {},
   "outputs": [],
   "source": [
    "def try_loss_z(zloss):\n",
    "    #reset()\n",
    "    set_loss_z(zloss)\n",
    "    M.cmd('run')\n",
    "    ix_loss = int(IX_REF - M.evaluate('data::loss.rel_point[1]|model'))\n",
    "    s_lost_actual = ELE_S[ix_loss]\n",
    "    z_loss_actual = FLOOR_Z[ix_loss]\n",
    "    print(f'Actual loss at s = {s_lost_actual} m, Z = {z_loss_actual} m')\n",
    "    return z_loss_actual\n"
   ]
  },
  {
   "cell_type": "code",
   "execution_count": 14,
   "metadata": {
    "scrolled": true
   },
   "outputs": [
    {
     "name": "stdout",
     "output_type": "stream",
     "text": [
      "Setting loss at s = 1485.346164736435 m, Z = 3500 m\n",
      "Actual loss at s = 1489.2532073134 m, Z = 3503.90699999999 m\n"
     ]
    },
    {
     "data": {
      "text/plain": [
       "3503.90699999999"
      ]
     },
     "execution_count": 14,
     "metadata": {},
     "output_type": "execute_result"
    }
   ],
   "source": [
    "# Try one place at s\n",
    "try_loss_z(3500)"
   ]
  },
  {
   "cell_type": "code",
   "execution_count": 15,
   "metadata": {},
   "outputs": [
    {
     "name": "stdout",
     "output_type": "stream",
     "text": [
      "Setting loss at s = 1546.68065958926 m, Z = 3561.33382646055 m\n",
      "Actual loss at s = 1546.68065958926 m, Z = 3561.33382646055 m\n",
      "Setting loss at s = 1528.9661821550978 m, Z = 3543.6195420698073 m\n",
      "Actual loss at s = 1546.68065958926 m, Z = 3561.33382646055 m\n",
      "Setting loss at s = 1511.251704720957 m, Z = 3525.9052576790646 m\n",
      "Actual loss at s = 1516.10649994698 m, Z = 3530.75999999999 m\n",
      "Setting loss at s = 1493.5372272868065 m, Z = 3508.190973288322 m\n",
      "Actual loss at s = 1489.2532073134 m, Z = 3503.90699999999 m\n",
      "Setting loss at s = 1475.8227498526687 m, Z = 3490.4766888975796 m\n",
      "Actual loss at s = 1487.12018406879 m, Z = 3501.77399999999 m\n",
      "Setting loss at s = 1458.1082724185235 m, Z = 3472.762404506837 m\n",
      "Actual loss at s = 1462.10891150861 m, Z = 3476.76299999999 m\n",
      "Setting loss at s = 1440.3937949843776 m, Z = 3455.048120116094 m\n",
      "Actual loss at s = 1452.42380596524 m, Z = 3467.07799999999 m\n",
      "Setting loss at s = 1422.6793175502296 m, Z = 3437.3338357253515 m\n",
      "Actual loss at s = 1436.48063222461 m, Z = 3451.13499999999 m\n",
      "Setting loss at s = 1404.9648401160905 m, Z = 3419.619551334609 m\n",
      "Actual loss at s = 1390.66213291781 m, Z = 3405.31699999999 m\n",
      "Setting loss at s = 1387.2503626819528 m, Z = 3401.905266943866 m\n",
      "Actual loss at s = 1390.66213291781 m, Z = 3405.31699999999 m\n",
      "Setting loss at s = 1369.5358852478046 m, Z = 3384.190982553124 m\n",
      "Actual loss at s = 1380.79370137664 m, Z = 3395.44867599999 m\n",
      "Setting loss at s = 1351.8214078136552 m, Z = 3366.476698162381 m\n",
      "Actual loss at s = 1348.48165254731 m, Z = 3363.13700105278 m\n",
      "Setting loss at s = 1334.1066106421247 m, Z = 3348.7624137716384 m\n",
      "Actual loss at s = 1326.8058393226 m, Z = 3341.46199999999 m\n",
      "Setting loss at s = 1316.3914586697576 m, Z = 3331.0481293808957 m\n",
      "Actual loss at s = 1326.8058393226 m, Z = 3341.46199999999 m\n",
      "Setting loss at s = 1298.674601240099 m, Z = 3313.333844990153 m\n",
      "Actual loss at s = 1293.2508710941 m, Z = 3307.91099999999 m\n",
      "Setting loss at s = 1280.9574253961778 m, Z = 3295.6195605994103 m\n",
      "Actual loss at s = 1293.2508710941 m, Z = 3307.91099999999 m\n",
      "Setting loss at s = 1263.2410789271319 m, Z = 3277.9052762086676 m\n",
      "Actual loss at s = 1293.2508710941 m, Z = 3307.91099999999 m\n",
      "Setting loss at s = 1245.5259269547544 m, Z = 3260.1909918179254 m\n",
      "Actual loss at s = 1278.03736386145 m, Z = 3292.70000992197 m\n",
      "Setting loss at s = 1227.8114106347498 m, Z = 3242.4767074271826 m\n",
      "Actual loss at s = 1272.74648073941 m, Z = 3287.40999999999 m\n",
      "Setting loss at s = 1210.09708508099 m, Z = 3224.76242303644 m\n",
      "Actual loss at s = 1272.74648073941 m, Z = 3287.40999999999 m\n"
     ]
    }
   ],
   "source": [
    "# Loop over some loss points in Z\n",
    "Z_TRY = np.linspace(MAX_Z,MIN_Z,20)\n",
    "Z_ACTUAL = []\n",
    "for zloss in Z_TRY:\n",
    "    zact = try_loss_z(zloss)\n",
    "    Z_ACTUAL.append(zact)\n",
    "    "
   ]
  },
  {
   "cell_type": "code",
   "execution_count": 15,
   "metadata": {},
   "outputs": [
    {
     "data": {
      "text/plain": [
       "[<matplotlib.lines.Line2D at 0x7fccdab95650>]"
      ]
     },
     "execution_count": 15,
     "metadata": {},
     "output_type": "execute_result"
    },
    {
     "data": {
      "image/png": "[encoded data removed]",
      "text/plain": [
       "<Figure size 432x288 with 1 Axes>"
      ]
     },
     "metadata": {
      "image/png": {
       "height": 261,
       "width": 395
      },
      "needs_background": "light"
     },
     "output_type": "display_data"
    }
   ],
   "source": [
    "plt.xlabel('Z try (m)')\n",
    "plt.ylabel('Z actual (m)')\n",
    "plt.plot(Z_TRY, Z_ACTUAL)\n"
   ]
  },
  {
   "cell_type": "code",
   "execution_count": 17,
   "metadata": {},
   "outputs": [
    {
     "data": {
      "text/plain": [
       "<matplotlib.collections.PathCollection at 0x7fccdaa8e910>"
      ]
     },
     "execution_count": 17,
     "metadata": {},
     "output_type": "execute_result"
    },
    {
     "data": {
      "image/png": "[encoded data removed]",
      "text/plain": [
       "<Figure size 432x288 with 1 Axes>"
      ]
     },
     "metadata": {
      "image/png": {
       "height": 277,
       "width": 388
      },
      "needs_background": "light"
     },
     "output_type": "display_data"
    }
   ],
   "source": [
    "plt.title('Error in loss attempt')\n",
    "plt.xlabel('Z try (m)')\n",
    "plt.ylabel('Z actual - try (m)')\n",
    "plt.scatter(Z_TRY, Z_ACTUAL- Z_TRY)"
   ]
  },
  {
   "cell_type": "code",
   "execution_count": null,
   "metadata": {},
   "outputs": [],
   "source": []
  }
 ],
 "metadata": {
  "kernelspec": {
   "display_name": "Python 3",
   "language": "python",
   "name": "python3"
  },
  "language_info": {
   "codemirror_mode": {
    "name": "ipython",
    "version": 3
   },
   "file_extension": ".py",
   "mimetype": "text/x-python",
   "name": "python",
   "nbconvert_exporter": "python",
   "pygments_lexer": "ipython3",
   "version": "3.7.6"
  }
 },
 "nbformat": 4,
 "nbformat_minor": 4
}
